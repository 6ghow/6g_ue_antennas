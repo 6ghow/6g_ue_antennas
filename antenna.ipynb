{
 "cells": [
  {
   "cell_type": "code",
   "execution_count": null,
   "id": "1fcfd9be",
   "metadata": {},
   "outputs": [],
   "source": [
    "import numpy as np\n",
    "import plotly.graph_objects as go\n",
    "import utils\n",
    "from utils import RADIATION_PATTERN_DEFAULTS, reference_antenna_pattern, UE_rotate, plot_3d_pattern, plot_patterns_on_phone"
   ]
  },
  {
   "cell_type": "code",
   "execution_count": null,
   "id": "67cdfb51",
   "metadata": {},
   "outputs": [],
   "source": [
    "# Create theta and phi angle arrays\n",
    "theta_deg = np.linspace(0, 180, 181)     # Elevation angle θ″\n",
    "phi_deg = np.linspace(-180, 180, 361)    # Azimuthal angle ϕ″\n",
    "theta_rad = np.radians(theta_deg)\n",
    "phi_rad = np.radians(phi_deg)\n",
    "THETA_deg, PHI_deg = np.meshgrid(theta_deg, phi_deg)\n",
    "THETA_rad, PHI_rad = np.meshgrid(theta_rad, phi_rad)"
   ]
  },
  {
   "cell_type": "code",
   "execution_count": null,
   "id": "480faf39",
   "metadata": {},
   "outputs": [],
   "source": [
    "A_ref_dB, F_theta_ref_lin, F_phi_ref_lin = reference_antenna_pattern(THETA_deg, PHI_deg, units=\"deg\", boresight_to=(90.0, 0.0))"
   ]
  },
  {
   "cell_type": "code",
   "execution_count": null,
   "id": "f64d19de",
   "metadata": {},
   "outputs": [],
   "source": [
    "plot_3d_pattern(THETA_rad, PHI_rad, A_ref_dB, units=\"dB\", title=\"Total reference radiation pattern, A''\")"
   ]
  },
  {
   "cell_type": "code",
   "execution_count": null,
   "id": "85c8f133",
   "metadata": {},
   "outputs": [],
   "source": [
    "plot_3d_pattern(THETA_rad, PHI_rad, F_theta_ref_lin, units=\"lin\", title=\"Theta-polarized component of reference pattern, F''_theta\")"
   ]
  },
  {
   "cell_type": "code",
   "execution_count": null,
   "id": "b6e58e99",
   "metadata": {},
   "outputs": [],
   "source": [
    "plot_3d_pattern(THETA_rad, PHI_rad, F_phi_ref_lin, units=\"lin\", title=\"Phi-polarized component of reference pattern, F''_phi\")"
   ]
  },
  {
   "attachments": {
    "image.png": {
     "image/png": "[encoded data removed]"
    }
   },
   "cell_type": "markdown",
   "id": "ebae36b2",
   "metadata": {},
   "source": [
    "Coordinate system:\n",
    "\n",
    "![image.png](attachment:image.png)"
   ]
  },
  {
   "cell_type": "markdown",
   "id": "eacbd00f",
   "metadata": {},
   "source": [
    "3D rotation angels per antenna port:\n",
    "| Antenna #        | αᵤ   | βᵤ | γᵤ  |\n",
    "|------------------|------|----|-----|\n",
    "| 1                | -155°| 0° | 90° |\n",
    "| 2                | -90° | 0° | 90° |\n",
    "| 3                | -25° | 0° | 90° |\n",
    "| 4                | 0°   | 0° | 90° |\n",
    "| 5                | 25°  | 0° | 90° |\n",
    "| 6                | 90°  | 0° | 90° |\n",
    "| 7                | 155° | 0° | 90° |\n",
    "| 8                | 180° | 0° | 90° |\n"
   ]
  },
  {
   "cell_type": "markdown",
   "id": "764facd2",
   "metadata": {},
   "source": [
    "UE rotation angles:\n",
    " - For calibration of handheld UT, the following UT rotation based on reference UT orientation is assumed.\n",
    "     - For calibration with spatial non-stationarity modelling:\n",
    "         - For one-hand blockage, ΩUT,α = 0 – 360 degrees, ΩUT,β = 45 degrees, ΩUT,γ = 0 degrees, \n",
    "         - For dual-hand blockage, ΩUT,α = 0 – 360 degrees, ΩUT,β = 0 degrees, ΩUT,γ = 45 degrees, \n",
    "         - For hand and head blockage, ΩUT,α = 0 – 360 degrees, ΩUT,β = 90 degrees, ΩUT,γ = 0 degrees, \n",
    "     - For all other cases:\n",
    "         - ΩUT,α = 0 – 360 degrees, ΩUT,β = 45 degrees, ΩUT,γ = 0 degrees, "
   ]
  },
  {
   "cell_type": "code",
   "execution_count": null,
   "id": "1baa6af3",
   "metadata": {},
   "outputs": [],
   "source": [
    "F_theta_final, F_phi_final, A_db_final = UE_rotate (THETA_rad, PHI_rad, 0, 0, 0, 25, 0, 90, (90,0)) # Rotation corresonding to the UE antenna port #5"
   ]
  },
  {
   "cell_type": "code",
   "execution_count": null,
   "id": "b66321bc",
   "metadata": {},
   "outputs": [],
   "source": [
    "plot_3d_pattern(THETA_rad, PHI_rad, A_db_final, units=\"dB\", title=\"Total radiation pattern of antenna, A'\", index=\"'\")"
   ]
  },
  {
   "cell_type": "code",
   "execution_count": null,
   "id": "0ddf955b",
   "metadata": {},
   "outputs": [],
   "source": [
    "plot_3d_pattern(THETA_rad, PHI_rad, F_theta_final, units=\"lin\", title=\"Theta-polarized component, F'_theta\", index=\"'\")"
   ]
  },
  {
   "cell_type": "code",
   "execution_count": null,
   "id": "a0a349f4",
   "metadata": {},
   "outputs": [],
   "source": [
    "plot_3d_pattern(THETA_rad, PHI_rad, F_phi_final, units=\"lin\", title=\"Phi-polarized component, F'_phi\", index=\"'\")"
   ]
  },
  {
   "cell_type": "code",
   "execution_count": null,
   "id": "60a15e2c",
   "metadata": {},
   "outputs": [],
   "source": [
    "# General parameters for multiple rotations for the 3GPP DEAFULT PATTERN ORIENTATION\n",
    "alfa_ue = 0\n",
    "betta_ue = 45\n",
    "gamma_ue = 0\n",
    "boresight_to = (90.0, 0.0) #(0.0, 0.0)- Up or (90.0, 0.0) - 3GPP default\n",
    "betta_antenna_deg = 0\n",
    "gamma_antenna_deg = 90\n",
    "\n",
    "F_theta_1, F_phi_1, A_db_1 = UE_rotate (THETA_rad, PHI_rad, alfa_ue, betta_ue, gamma_ue, -155, betta_antenna_deg, gamma_antenna_deg, boresight_to)\n",
    "F_theta_2, F_phi_2, A_db_2 = UE_rotate (THETA_rad, PHI_rad, alfa_ue, betta_ue, gamma_ue, -90, betta_antenna_deg, gamma_antenna_deg, boresight_to)\n",
    "F_theta_3, F_phi_3, A_db_3 = UE_rotate (THETA_rad, PHI_rad, alfa_ue, betta_ue, gamma_ue, -25, betta_antenna_deg, gamma_antenna_deg, boresight_to)\n",
    "F_theta_4, F_phi_4, A_db_4 = UE_rotate (THETA_rad, PHI_rad, alfa_ue, betta_ue, gamma_ue, 0, betta_antenna_deg, gamma_antenna_deg, boresight_to)\n",
    "F_theta_5, F_phi_5, A_db_5 = UE_rotate (THETA_rad, PHI_rad, alfa_ue, betta_ue, gamma_ue, 25, betta_antenna_deg, gamma_antenna_deg, boresight_to)\n",
    "F_theta_6, F_phi_6, A_db_6 = UE_rotate (THETA_rad, PHI_rad, alfa_ue, betta_ue, gamma_ue, 90, betta_antenna_deg, gamma_antenna_deg, boresight_to)\n",
    "F_theta_7, F_phi_7, A_db_7 = UE_rotate (THETA_rad, PHI_rad, alfa_ue, betta_ue, gamma_ue, 155, betta_antenna_deg, gamma_antenna_deg, boresight_to)\n",
    "F_theta_8, F_phi_8, A_db_8 = UE_rotate (THETA_rad, PHI_rad, alfa_ue, betta_ue, gamma_ue, 180, betta_antenna_deg, gamma_antenna_deg, boresight_to)\n",
    "F_theta_list = [F_theta_1, F_theta_2, F_theta_3, F_theta_4,\n",
    "          F_theta_5, F_theta_6, F_theta_7, F_theta_8]\n",
    "F_phi_list = [F_phi_1, F_phi_2, F_phi_3, F_phi_4,\n",
    "          F_phi_5, F_phi_6, F_phi_7, F_phi_8]\n",
    "A_db_list = [A_db_1, A_db_2, A_db_3, A_db_4,\n",
    "          A_db_5, A_db_6, A_db_7, A_db_8]"
   ]
  },
  {
   "cell_type": "code",
   "execution_count": null,
   "id": "820f88f0",
   "metadata": {},
   "outputs": [],
   "source": [
    "plot_patterns_on_phone(\n",
    "    A_db_list,\n",
    "    THETA_rad, PHI_rad,\n",
    "    units=\"dB\",\n",
    "    rect_size=(15.0, 7.0),\n",
    "    angles_deg=(alfa_ue, betta_ue, gamma_ue),  # e.g., (45, 0, 0)\n",
    "    lobe_scale=4,          # tweak visual size of the lobes\n",
    "    cmin=-20, cmax=5.5,      # dB scale\n",
    "    colorscale='Turbo',\n",
    "    title=\"Total radiation patterns for 8 candidate locations,<br>\" \\\n",
    "    \"handheld device, 15×7 cm\"\n",
    ")"
   ]
  },
  {
   "cell_type": "code",
   "execution_count": null,
   "id": "a235f20a",
   "metadata": {},
   "outputs": [],
   "source": [
    "plot_patterns_on_phone(\n",
    "    F_theta_list,\n",
    "    THETA_rad, PHI_rad,\n",
    "    units=\"lin\",\n",
    "    rect_size=(15.0, 7.0),\n",
    "    angles_deg=(alfa_ue, betta_ue, gamma_ue),  # (alfa_ue, betta_ue, gamma_ue)\n",
    "    lobe_scale=4,          # tweak visual size of the lobes\n",
    "    cmin=-20, cmax=5.5,      # dB scale\n",
    "    colorscale='Turbo',\n",
    "    title=\"F_theta polarization components for 8 candidate locations,<br>\" \\\n",
    "    \"handheld device, 15×7 cm\"\n",
    ")"
   ]
  },
  {
   "cell_type": "code",
   "execution_count": null,
   "id": "225c4f9e",
   "metadata": {},
   "outputs": [],
   "source": [
    "plot_patterns_on_phone(\n",
    "    F_phi_list,\n",
    "    THETA_rad, PHI_rad,\n",
    "    units=\"lin\",\n",
    "    rect_size=(15.0, 7.0),\n",
    "    angles_deg=(alfa_ue, betta_ue, gamma_ue),  # e.g., (45, 0, 0)\n",
    "    lobe_scale=4,          # tweak visual size of the lobes\n",
    "    cmin=-20, cmax=5.5,      # dB scale\n",
    "    colorscale='Turbo',\n",
    "    title=\"F_phi polarization components for 8 candidate locations,<br>\" \\\n",
    "    \"handheld device, 15×7 cm\"\n",
    ")"
   ]
  },
  {
   "cell_type": "code",
   "execution_count": null,
   "id": "b54a6bae",
   "metadata": {},
   "outputs": [],
   "source": []
  }
 ],
 "metadata": {
  "kernelspec": {
   "display_name": "Python 3",
   "language": "python",
   "name": "python3"
  },
  "language_info": {
   "codemirror_mode": {
    "name": "ipython",
    "version": 3
   },
   "file_extension": ".py",
   "mimetype": "text/x-python",
   "name": "python",
   "nbconvert_exporter": "python",
   "pygments_lexer": "ipython3",
   "version": "3.10.11"
  }
 },
 "nbformat": 4,
 "nbformat_minor": 5
}
